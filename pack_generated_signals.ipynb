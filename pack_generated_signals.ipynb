{
 "cells": [
  {
   "cell_type": "code",
   "execution_count": 10,
   "metadata": {},
   "outputs": [
    {
     "data": {
      "text/plain": [
       "'1.3.1'"
      ]
     },
     "execution_count": 10,
     "metadata": {},
     "output_type": "execute_result"
    }
   ],
   "source": [
    "import torch \n",
    "import pandas as pd\n",
    "import numpy as np\n",
    "%matplotlib inline\n",
    "from matplotlib import pyplot as plt\n",
    "import re\n",
    "torch.__version__"
   ]
  },
  {
   "cell_type": "code",
   "execution_count": 18,
   "metadata": {},
   "outputs": [
    {
     "name": "stdout",
     "output_type": "stream",
     "text": [
      "1337\n"
     ]
    }
   ],
   "source": [
    "import os\n",
    "path = 'data/'\n",
    "filenames = os.listdir(path) \n",
    "print(len(filenames))"
   ]
  },
  {
   "cell_type": "code",
   "execution_count": 24,
   "metadata": {},
   "outputs": [
    {
     "name": "stdout",
     "output_type": "stream",
     "text": [
      "type\n",
      "['', '892', 'type', 'dip', 'npy']\n"
     ]
    }
   ],
   "source": [
    "signal_L = list()\n",
    "signal_types_L = list()\n",
    "signal_num_L = list()\n",
    "for name in filenames:\n",
    "    if name[-4:] == '.npy': \n",
    "        signal_type = re.split('signal|_|=|\\.',name)[2]\n",
    "        # we save the signal type in the filename,\n",
    "        # so here we use regular expression module, to split the filename,\n",
    "        # and then get the signal types and numbers.\n",
    "        signal_num = int(re.split('signal|_|=|\\.',name)[1])\n",
    "        signal_types_L.append(signal_type)\n",
    "        signal_num_L.append(signal_num)\n",
    "        signal = np.load(path+name)\n",
    "        signal_L.append(signal)\n",
    "print(signal_type)\n",
    "print(re.split('signal|_|=|\\.',name))"
   ]
  },
  {
   "cell_type": "code",
   "execution_count": 25,
   "metadata": {},
   "outputs": [
    {
     "data": {
      "text/plain": [
       "[<matplotlib.lines.Line2D at 0x12c7059b0>]"
      ]
     },
     "execution_count": 25,
     "metadata": {},
     "output_type": "execute_result"
    },
    {
     "data": {
      "image/png": "[encoded data removed]",
      "text/plain": [
       "<Figure size 432x288 with 1 Axes>"
      ]
     },
     "metadata": {
      "needs_background": "light"
     },
     "output_type": "display_data"
    }
   ],
   "source": [
    "# 用来检查缺失的信号序数，比如[1,2,4]缺失了3\n",
    "i_not_in_L = list()\n",
    "for i in range(1200):\n",
    "    if not i in signal_num_L:\n",
    "        i_not_in_L.append(i)\n",
    "plt.plot(i_not_in_L)"
   ]
  },
  {
   "cell_type": "code",
   "execution_count": 26,
   "metadata": {},
   "outputs": [
    {
     "name": "stdout",
     "output_type": "stream",
     "text": [
      "1336\n"
     ]
    }
   ],
   "source": [
    "if len(signal_L) == len(signal_types_L):\n",
    "    length = len(signal_L)\n",
    "    print(length)\n",
    "else:\n",
    "    print('something wrong happens')\n",
    "    print(len(signal_L),len(signal_types_L))"
   ]
  },
  {
   "cell_type": "code",
   "execution_count": 78,
   "metadata": {},
   "outputs": [],
   "source": [
    "my_signals = pd.DataFrame(columns=('type','data'))\n",
    "for name in filenames:\n",
    "    if name[-4:] == '.npy': \n",
    "        signal_type = re.split('=|\\.',name)[1]\n",
    "        data = np.load(path+name)\n",
    "        data = pd.Series(data)\n",
    "        my_signals.loc[my_signals.shape[0]]={'type':signal_type,'data':data}\n",
    "# my_signals.to_json('test_set.json')"
   ]
  },
  {
   "cell_type": "code",
   "execution_count": 79,
   "metadata": {},
   "outputs": [
    {
     "data": {
      "text/plain": [
       "('dip', 286)"
      ]
     },
     "execution_count": 79,
     "metadata": {},
     "output_type": "execute_result"
    },
    {
     "data": {
      "text/plain": [
       "('bipolar', 203)"
      ]
     },
     "execution_count": 79,
     "metadata": {},
     "output_type": "execute_result"
    },
    {
     "data": {
      "text/plain": [
       "('tanh', 210)"
      ]
     },
     "execution_count": 79,
     "metadata": {},
     "output_type": "execute_result"
    },
    {
     "data": {
      "text/plain": [
       "('gaussian', 212)"
      ]
     },
     "execution_count": 79,
     "metadata": {},
     "output_type": "execute_result"
    },
    {
     "data": {
      "text/plain": [
       "('linear', 208)"
      ]
     },
     "execution_count": 79,
     "metadata": {},
     "output_type": "execute_result"
    },
    {
     "data": {
      "text/plain": [
       "('sinusoidal', 217)"
      ]
     },
     "execution_count": 79,
     "metadata": {},
     "output_type": "execute_result"
    },
    {
     "data": {
      "text/plain": [
       "1336"
      ]
     },
     "execution_count": 79,
     "metadata": {},
     "output_type": "execute_result"
    }
   ],
   "source": [
    "'dip',(my_signals['type'] == 'dip').sum()\n",
    "'bipolar',(my_signals['type'] == 'bipolar').sum()\n",
    "'tanh',(my_signals['type'] == 'tanh').sum()\n",
    "'gaussian',(my_signals['type'] == 'gaussian').sum()\n",
    "'linear',(my_signals['type'] == 'linear').sum()\n",
    "'sinusoidal',(my_signals['type'] == 'sinusoidal').sum()\n",
    "len(my_signals)"
   ]
  },
  {
   "cell_type": "code",
   "execution_count": 89,
   "metadata": {},
   "outputs": [],
   "source": [
    "my_signals = my_signals.sample(frac=1)\n",
    "# shuffle"
   ]
  },
  {
   "cell_type": "code",
   "execution_count": 90,
   "metadata": {},
   "outputs": [],
   "source": [
    "a_signals = my_signals[:300]\n",
    "b_signals = my_signals[300:]\n",
    "# divide signals into train and test sets.\n",
    "# a: test set; b: train set."
   ]
  },
  {
   "cell_type": "code",
   "execution_count": 93,
   "metadata": {},
   "outputs": [
    {
     "data": {
      "text/plain": [
       "('dip', 57)"
      ]
     },
     "execution_count": 93,
     "metadata": {},
     "output_type": "execute_result"
    },
    {
     "data": {
      "text/plain": [
       "('bipolar', 52)"
      ]
     },
     "execution_count": 93,
     "metadata": {},
     "output_type": "execute_result"
    },
    {
     "data": {
      "text/plain": [
       "('tanh', 39)"
      ]
     },
     "execution_count": 93,
     "metadata": {},
     "output_type": "execute_result"
    },
    {
     "data": {
      "text/plain": [
       "('gaussian', 47)"
      ]
     },
     "execution_count": 93,
     "metadata": {},
     "output_type": "execute_result"
    },
    {
     "data": {
      "text/plain": [
       "('linear', 47)"
      ]
     },
     "execution_count": 93,
     "metadata": {},
     "output_type": "execute_result"
    },
    {
     "data": {
      "text/plain": [
       "('sinusoidal', 58)"
      ]
     },
     "execution_count": 93,
     "metadata": {},
     "output_type": "execute_result"
    },
    {
     "data": {
      "text/plain": [
       "300"
      ]
     },
     "execution_count": 93,
     "metadata": {},
     "output_type": "execute_result"
    }
   ],
   "source": [
    "'dip',(a_signals['type'] == 'dip').sum()\n",
    "'bipolar',(a_signals['type'] == 'bipolar').sum()\n",
    "'tanh',(a_signals['type'] == 'tanh').sum()\n",
    "'gaussian',(a_signals['type'] == 'gaussian').sum()\n",
    "'linear',(a_signals['type'] == 'linear').sum()\n",
    "'sinusoidal',(a_signals['type'] == 'sinusoidal').sum()\n",
    "len(a_signals)"
   ]
  },
  {
   "cell_type": "code",
   "execution_count": 103,
   "metadata": {},
   "outputs": [],
   "source": [
    "a_signals = a_signals.reset_index(drop=True)\n",
    "# reset indices to 1, 2, 3, ..."
   ]
  },
  {
   "cell_type": "code",
   "execution_count": 94,
   "metadata": {},
   "outputs": [
    {
     "data": {
      "text/plain": [
       "('dip', 229)"
      ]
     },
     "execution_count": 94,
     "metadata": {},
     "output_type": "execute_result"
    },
    {
     "data": {
      "text/plain": [
       "('bipolar', 151)"
      ]
     },
     "execution_count": 94,
     "metadata": {},
     "output_type": "execute_result"
    },
    {
     "data": {
      "text/plain": [
       "('tanh', 171)"
      ]
     },
     "execution_count": 94,
     "metadata": {},
     "output_type": "execute_result"
    },
    {
     "data": {
      "text/plain": [
       "('gaussian', 165)"
      ]
     },
     "execution_count": 94,
     "metadata": {},
     "output_type": "execute_result"
    },
    {
     "data": {
      "text/plain": [
       "('linear', 161)"
      ]
     },
     "execution_count": 94,
     "metadata": {},
     "output_type": "execute_result"
    },
    {
     "data": {
      "text/plain": [
       "('sinusoidal', 159)"
      ]
     },
     "execution_count": 94,
     "metadata": {},
     "output_type": "execute_result"
    },
    {
     "data": {
      "text/plain": [
       "1036"
      ]
     },
     "execution_count": 94,
     "metadata": {},
     "output_type": "execute_result"
    }
   ],
   "source": [
    "'dip',(b_signals['type'] == 'dip').sum()\n",
    "'bipolar',(b_signals['type'] == 'bipolar').sum()\n",
    "'tanh',(b_signals['type'] == 'tanh').sum()\n",
    "'gaussian',(b_signals['type'] == 'gaussian').sum()\n",
    "'linear',(b_signals['type'] == 'linear').sum()\n",
    "'sinusoidal',(b_signals['type'] == 'sinusoidal').sum()\n",
    "len(b_signals)"
   ]
  },
  {
   "cell_type": "code",
   "execution_count": 104,
   "metadata": {},
   "outputs": [],
   "source": [
    "b_signals=b_signals.reset_index(drop=True)"
   ]
  },
  {
   "cell_type": "code",
   "execution_count": 105,
   "metadata": {},
   "outputs": [],
   "source": [
    "a_signals.to_json('final_test_set.json')\n",
    "# save to json\n",
    "# after trying different types of file, we find json the best."
   ]
  },
  {
   "cell_type": "code",
   "execution_count": 106,
   "metadata": {},
   "outputs": [],
   "source": [
    "b_signals.to_json('final_train_set.json')"
   ]
  }
 ],
 "metadata": {
  "kernelspec": {
   "display_name": "Pytorch",
   "language": "python",
   "name": "pytorch"
  },
  "language_info": {
   "codemirror_mode": {
    "name": "ipython",
    "version": 3
   },
   "file_extension": ".py",
   "mimetype": "text/x-python",
   "name": "python",
   "nbconvert_exporter": "python",
   "pygments_lexer": "ipython3",
   "version": "3.6.9"
  }
 },
 "nbformat": 4,
 "nbformat_minor": 2
}
